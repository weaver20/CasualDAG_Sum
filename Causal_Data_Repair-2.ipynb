{
 "cells": [
  {
   "cell_type": "code",
   "execution_count": 1,
   "metadata": {},
   "outputs": [
    {
     "data": {
      "text/html": [
       "<div>\n",
       "<style scoped>\n",
       "    .dataframe tbody tr th:only-of-type {\n",
       "        vertical-align: middle;\n",
       "    }\n",
       "\n",
       "    .dataframe tbody tr th {\n",
       "        vertical-align: top;\n",
       "    }\n",
       "\n",
       "    .dataframe thead th {\n",
       "        text-align: right;\n",
       "    }\n",
       "</style>\n",
       "<table border=\"1\" class=\"dataframe\">\n",
       "  <thead>\n",
       "    <tr style=\"text-align: right;\">\n",
       "      <th></th>\n",
       "      <th>ID</th>\n",
       "      <th>A</th>\n",
       "      <th>B</th>\n",
       "      <th>T</th>\n",
       "      <th>O</th>\n",
       "    </tr>\n",
       "  </thead>\n",
       "  <tbody>\n",
       "    <tr>\n",
       "      <th>0</th>\n",
       "      <td>1</td>\n",
       "      <td>1</td>\n",
       "      <td>0</td>\n",
       "      <td>1</td>\n",
       "      <td>10</td>\n",
       "    </tr>\n",
       "    <tr>\n",
       "      <th>1</th>\n",
       "      <td>2</td>\n",
       "      <td>0</td>\n",
       "      <td>1</td>\n",
       "      <td>1</td>\n",
       "      <td>80</td>\n",
       "    </tr>\n",
       "    <tr>\n",
       "      <th>2</th>\n",
       "      <td>3</td>\n",
       "      <td>0</td>\n",
       "      <td>1</td>\n",
       "      <td>1</td>\n",
       "      <td>20</td>\n",
       "    </tr>\n",
       "    <tr>\n",
       "      <th>3</th>\n",
       "      <td>4</td>\n",
       "      <td>1</td>\n",
       "      <td>0</td>\n",
       "      <td>0</td>\n",
       "      <td>100</td>\n",
       "    </tr>\n",
       "    <tr>\n",
       "      <th>4</th>\n",
       "      <td>5</td>\n",
       "      <td>1</td>\n",
       "      <td>1</td>\n",
       "      <td>0</td>\n",
       "      <td>90</td>\n",
       "    </tr>\n",
       "    <tr>\n",
       "      <th>5</th>\n",
       "      <td>6</td>\n",
       "      <td>0</td>\n",
       "      <td>1</td>\n",
       "      <td>1</td>\n",
       "      <td>10</td>\n",
       "    </tr>\n",
       "  </tbody>\n",
       "</table>\n",
       "</div>"
      ],
      "text/plain": [
       "   ID  A  B  T    O\n",
       "0   1  1  0  1   10\n",
       "1   2  0  1  1   80\n",
       "2   3  0  1  1   20\n",
       "3   4  1  0  0  100\n",
       "4   5  1  1  0   90\n",
       "5   6  0  1  1   10"
      ]
     },
     "execution_count": 1,
     "metadata": {},
     "output_type": "execute_result"
    }
   ],
   "source": [
    "import numpy as np\n",
    "import pandas as pd\n",
    "\n",
    "\n",
    "####2023, BsC holders earn 10 more on average\n",
    "# data = {\n",
    "#     'ID': [1, 2, 3, 4, 5,6,7,8,9,10],\n",
    "#     'A': [1, 0, 0, 1,1,0,0,1,1,1],\n",
    "#     'B': [0,1,1,0,1,1,1,0,0,0],\n",
    "#     'T': [1,1,1,0,0,1,1,0,0,1],\n",
    "#     'O': [100, 80, 20, 100, 90,10,50,80,10,100]\n",
    "# }\n",
    "\n",
    "# df = pd.DataFrame(data)\n",
    "# df.head()\n",
    "\n",
    "\n",
    "\n",
    "\n",
    "# #2024 BsC holders earn -16.6 less on average\n",
    "data = {\n",
    "    'ID': [1, 2, 3, 4, 5,6,7,8,9,10],\n",
    "    'A': [1, 0, 0, 1,1,0,0,1,1,1],\n",
    "    'B': [0,1,1,0,1,1,1,0,0,0],\n",
    "    'T': [1,1,1,0,0,1,1,0,0,1],\n",
    "    'O': [10, 80, 20, 100, 90,10,50,80,100,100]\n",
    "}\n",
    "# # # data = {\n",
    "# # #     'ID': [1, 2, 3, 4, 5,6],\n",
    "# # #     'Country': ['US', 'US', 'India', 'India', 'China','India'],\n",
    "# # #     'Gender': ['Male', 'Non-binary', 'Male', 'Female', 'Male','Female'],\n",
    "# # #     'Age': ['20-30 years old', '20-30 years old', '20-30 years old', '20-30 years old', '20-30 years old', '20-30 years old'],\n",
    "# # #     'Role': ['Data Scientist', 'QA developer', 'Data Scientist', 'QA developer', 'Back-end developer','QA developer'],\n",
    "# # #     'Education': [0, 1, 1, 0, 0,0],\n",
    "# # #     'Salary': [170, 80, 120, 30, 90,30]\n",
    "# # # }\n",
    "\n",
    "\n",
    "\n",
    "\n",
    "df = pd.DataFrame(data)\n",
    "#tuple deletion\n",
    "#df = df[df['ID'].isin([1,2,3,6]) ]\n",
    "df.head(6)"
   ]
  },
  {
   "cell_type": "code",
   "execution_count": 2,
   "metadata": {},
   "outputs": [],
   "source": [
    "from dowhy import CausalModel\n",
    "\n",
    "def get_effect(df, treatment, outcome, graph):\n",
    "    \n",
    "    model = CausalModel(\n",
    "        data=df,\n",
    "        treatment=treatment,\n",
    "        outcome=outcome,\n",
    "        graph=graph,\n",
    "    )\n",
    "    identified_estimand = model.identify_effect(\n",
    "        proceed_when_unidentifiable=True\n",
    "    )\n",
    "    estimate = model.estimate_effect(\n",
    "        identified_estimand,\n",
    "        method_name=\"backdoor.linear_regression\",\n",
    "        confidence_intervals = True,\n",
    "        test_significance=True,\n",
    "    )\n",
    "\n",
    "    print(estimate)"
   ]
  },
  {
   "cell_type": "code",
   "execution_count": 3,
   "metadata": {},
   "outputs": [
    {
     "name": "stdout",
     "output_type": "stream",
     "text": [
      "linear_regression\n",
      "{'control_value': 0, 'treatment_value': 1, 'test_significance': True, 'evaluate_effect_strength': False, 'confidence_intervals': True, 'target_units': 'ate', 'effect_modifiers': []}\n",
      "*** Causal Estimate ***\n",
      "\n",
      "## Identified estimand\n",
      "Estimand type: nonparametric-ate\n",
      "\n",
      "### Estimand : 1\n",
      "Estimand name: backdoor\n",
      "Estimand expression:\n",
      " d            \n",
      "────(E[O|B,A])\n",
      "d[T]          \n",
      "Estimand assumption 1, Unconfoundedness: If U→{T} and U→O then P(O|T,B,A,U) = P(O|T,B,A)\n",
      "\n",
      "## Realized estimand\n",
      "b: O~T+B+A\n",
      "Target units: ate\n",
      "\n",
      "## Estimate\n",
      "Mean value: -38.333333333333314\n",
      "p-value: [0.27446598]\n",
      "95.0% confidence interval: [[-116.33586719   39.66920052]]\n",
      "\n"
     ]
    },
    {
     "name": "stderr",
     "output_type": "stream",
     "text": [
      "C:\\Users\\brity\\AppData\\Local\\anaconda3\\Lib\\site-packages\\scipy\\stats\\_stats_py.py:1806: UserWarning: kurtosistest only valid for n>=20 ... continuing anyway, n=10\n",
      "  warnings.warn(\"kurtosistest only valid for n>=20 ... continuing \"\n"
     ]
    }
   ],
   "source": [
    "dag = \"digraph {A -> T; A -> O; B -> T; B -> O; T -> O;}\"\n",
    "#original 10\n",
    "#all -38.8\n",
    "\n",
    "#no 9 -34\n",
    "# df = df[df['ID'].isin([1,2,3,4,5,6,7,8,10]) ]\n",
    "#no 1 6\n",
    "# df = df[df['ID'].isin([2,3,4,5,6,7,8,9,10]) ]\n",
    "#no 1,9 10\n",
    "# df = df[df['ID'].isin([2,3,4,5,6,7,8,10]) ]\n",
    "\n",
    "get_effect(df, 'T', 'O', dag)\n",
    "\n",
    "\n",
    "# for i in range(1,11):\n",
    "#     ids = [1,2,3,4,5,6,7,8,9,10]\n",
    "#     ids.remove(i)\n",
    "#     df_i = df[df['ID'].isin(ids) ]\n",
    "#     print('#######################################################')\n",
    "#     print(i)\n",
    "#     get_effect(df_i, 'T', 'O', dag)\n",
    "\n",
    "# import itertools\n",
    "# items = [1,2,3,4,5,6]\n",
    "# for pair in itertools.combinations(items, 2):\n",
    "#     #print(pair)\n",
    "#     ids = [1,2,3,4,5,6]\n",
    "#     ids.remove(pair[0])\n",
    "#     ids.remove(pair[1])\n",
    "#     df_i = df[df['ID'].isin(ids) ]\n",
    "#     print('#######################################################')\n",
    "#     print(pair)\n",
    "#     get_effect(df_i, 'Education', 'Salary', dag)\n"
   ]
  },
  {
   "cell_type": "code",
   "execution_count": 14,
   "metadata": {},
   "outputs": [
    {
     "data": {
      "text/plain": [
       "[<matplotlib.lines.Line2D at 0x2264fb4d090>]"
      ]
     },
     "execution_count": 14,
     "metadata": {},
     "output_type": "execute_result"
    },
    {
     "data": {
      "image/png": "[encoded data removed]",
      "text/plain": [
       "<Figure size 640x480 with 1 Axes>"
      ]
     },
     "metadata": {},
     "output_type": "display_data"
    }
   ],
   "source": [
    "import matplotlib.pyplot as plt\n",
    "import numpy as np\n",
    "\n",
    "x = np.array([20,30,20,35,25,20,20,22,25,23,20,25])\n",
    "y = np.array([1,2,3,1,3,2,2,3,2,2,4,10])\n",
    "\n",
    "m,b = np.polyfit(x,y,1)\n",
    "plt.scatter(x,y)\n",
    "plt.plot(x,m*x+b)"
   ]
  },
  {
   "cell_type": "code",
   "execution_count": 17,
   "metadata": {},
   "outputs": [
    {
     "data": {
      "text/plain": [
       "array([0.06466399, 0.01569619, 0.00005254, 0.6725801 , 0.00014777,\n",
       "       0.01710076, 0.01710076, 0.00000273, 0.00654028, 0.007311  ,\n",
       "       0.01351933, 0.44003778])"
      ]
     },
     "execution_count": 17,
     "metadata": {},
     "output_type": "execute_result"
    }
   ],
   "source": [
    "\n",
    "from statsmodels.formula.api import ols\n",
    "import statsmodels.api as sm\n",
    "\n",
    "X = sm.add_constant(x)\n",
    "model = sm.OLS(y,X).fit()\n",
    "\n",
    "np.set_printoptions(suppress = True)\n",
    "\n",
    "infl = model.get_influence()\n",
    "\n",
    "cooks = infl.cooks_distance\n",
    "\n",
    "cooks[0]\n",
    "# summary_cooks = infl.summary_farme()\n",
    "# summry_cooks"
   ]
  },
  {
   "cell_type": "code",
   "execution_count": null,
   "metadata": {},
   "outputs": [],
   "source": []
  }
 ],
 "metadata": {
  "kernelspec": {
   "display_name": "Python 3 (ipykernel)",
   "language": "python",
   "name": "python3"
  },
  "language_info": {
   "codemirror_mode": {
    "name": "ipython",
    "version": 3
   },
   "file_extension": ".py",
   "mimetype": "text/x-python",
   "name": "python",
   "nbconvert_exporter": "python",
   "pygments_lexer": "ipython3",
   "version": "3.11.5"
  }
 },
 "nbformat": 4,
 "nbformat_minor": 2
}
